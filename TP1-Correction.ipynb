{
 "cells": [
  {
   "cell_type": "markdown",
   "metadata": {
    "colab_type": "text",
    "id": "9SQqqqNOp2Yt"
   },
   "source": [
    "# TP 1 : Introduction\n",
    "***Objectif: Apprendre à utiliser les librairies du machine learning***"
   ]
  },
  {
   "cell_type": "markdown",
   "metadata": {
    "colab_type": "text",
    "id": "nkA57iw0p2Yx"
   },
   "source": [
    "## [NumPy array](https://github.com/ageron/handson-ml2/blob/master/tools_numpy.ipynb)\n",
    "Toutes les données acceptées par [Scikit-Learn](https://scikit-learn.org/stable/) sont converties en **NumPy array**. Sa structure de base est la classe **ndarray** qui est un vecteur (liste) à n-dimensions. Tous les éléments de la liste doivent être de même type."
   ]
  },
  {
   "cell_type": "code",
   "execution_count": 0,
   "metadata": {
    "colab": {},
    "colab_type": "code",
    "id": "bMO5HFRup2Yz"
   },
   "outputs": [],
   "source": [
    "import numpy as np\n",
    "\n",
    "x = np.array([[1, 2, 3], [4, 5, 6],[7, 8, 9],[10,11,12],[13,14,15],[16,17,18],[19,20,21]])\n",
    "print(\"x:\\n{}\".format(x))\n",
    "print(np.ma.size(x,axis=1))"
   ]
  },
  {
   "cell_type": "code",
   "execution_count": 0,
   "metadata": {
    "colab": {},
    "colab_type": "code",
    "id": "69C0l554p2Y7"
   },
   "outputs": [],
   "source": [
    "print(type(x))"
   ]
  },
  {
   "cell_type": "code",
   "execution_count": 0,
   "metadata": {
    "colab": {},
    "colab_type": "code",
    "id": "9wpu_7_fp2Y_"
   },
   "outputs": [],
   "source": [
    "print(x.shape)\n"
   ]
  },
  {
   "cell_type": "markdown",
   "metadata": {
    "colab_type": "text",
    "id": "6PYZWjD-vhEp"
   },
   "source": [
    "> Que représente la propriété ***shape*** ?\n",
    "\n",
    "\n",
    "\n"
   ]
  },
  {
   "cell_type": "markdown",
   "metadata": {
    "colab_type": "text",
    "id": "UZk9v1rb-m6a"
   },
   "source": [
    "> Utiliser `numpy` pour créer un vecteur de dimension (1,4) puis (4,1)\n",
    "\n",
    "> Utiliser `numpy` pour créer un vecteur (matrice) de dimension (3,2). Ne pas utiliser la fonction `np.mat()`"
   ]
  },
  {
   "cell_type": "markdown",
   "metadata": {
    "colab_type": "text",
    "id": "728g-rGZ16P3"
   },
   "source": [
    "> En utilisant les fonctions `np.arrange` ou `np.linspace`, générez une liste de $6$ *floats* compris entre $0$ et $\\frac{5}{3}$\n",
    "\n",
    "---\n",
    "\n"
   ]
  },
  {
   "cell_type": "code",
   "execution_count": 0,
   "metadata": {
    "colab": {},
    "colab_type": "code",
    "id": "nM2DBk_C2A3x"
   },
   "outputs": [],
   "source": [
    "np.random.rand(3,4)\n"
   ]
  },
  {
   "cell_type": "code",
   "execution_count": 0,
   "metadata": {
    "colab": {},
    "colab_type": "code",
    "id": "mf6ALwfJ2aUp"
   },
   "outputs": [],
   "source": [
    "np.random.randn(3,4)"
   ]
  },
  {
   "cell_type": "markdown",
   "metadata": {
    "colab_type": "text",
    "id": "67Z4WXFB22zy"
   },
   "source": [
    "> Que réalisent les deux fonctions `rand` et `randn` ?"
   ]
  },
  {
   "cell_type": "code",
   "execution_count": 0,
   "metadata": {
    "colab": {
     "base_uri": "https://localhost:8080/",
     "height": 295
    },
    "colab_type": "code",
    "id": "E12nq3333it4",
    "outputId": "3e583f9c-cead-4a7d-ecae-d3c3c1b71cb6"
   },
   "outputs": [
    {
     "data": {
      "image/png": "[encoded data removed]",
      "text/plain": [
       "<Figure size 432x288 with 1 Axes>"
      ]
     },
     "metadata": {
      "tags": []
     },
     "output_type": "display_data"
    }
   ],
   "source": [
    "%matplotlib inline\n",
    "import matplotlib.pyplot as plt\n",
    "plt.hist(np.random.rand(100000), density=True, bins=100, histtype=\"step\", color=\"blue\", label=\"rand\")\n",
    "plt.hist(np.random.randn(100000), density=True, bins=100, histtype=\"step\", color=\"red\", label=\"randn\")\n",
    "plt.axis([-2.5, 2.5, 0, 1.1])\n",
    "plt.legend(loc = \"upper left\")\n",
    "plt.title(\"Random distributions\")\n",
    "plt.xlabel(\"Value\")\n",
    "plt.ylabel(\"Density\")\n",
    "plt.show()"
   ]
  },
  {
   "cell_type": "markdown",
   "metadata": {
    "colab_type": "text",
    "id": "Pp4Y-E133_zv"
   },
   "source": [
    "> Quelle est la principale différence entre `rand` et `randn`?"
   ]
  },
  {
   "cell_type": "code",
   "execution_count": 0,
   "metadata": {
    "colab": {},
    "colab_type": "code",
    "id": "Sy7GznkDW9QZ"
   },
   "outputs": [],
   "source": [
    "vector = np.array([1, 2, 3, 4, 5, 6])\n",
    "\n",
    "# Création de matrice\n",
    "matrix = np.array([[1, 2, 3],\n",
    "                   [4, 5, 6],\n",
    "                   [7, 8, 9]])\n"
   ]
  },
  {
   "cell_type": "markdown",
   "metadata": {
    "colab_type": "text",
    "id": "sb0JEamQXAtE"
   },
   "source": [
    "> Sélectionner puis afficher tous les éléments du vecteur `vector`\n",
    "\n",
    "> Sélectionner puis afficher les éléments jusqu'au $3^{ème}$ élément inclut du vecteur `vector`\n",
    "\n",
    ">  Sélectionner puis afficher les éléments à partir du $3^{ème}$ élément inclut du vecteur `vector`\n",
    "\n",
    "> Sélectionner puis afficher l'avant dernier élément du vecteur `vector`\n",
    "\n",
    ">  Sélectionner les deux premières lignes et toutes les colonnes de la matrice \n",
    "> Sélectionner toutes les lignes et la seconde colonne\n",
    "\n",
    "> Calculer le `maximum`, `minimum` de chaque colonne de la matrice\n",
    "\n",
    "> Calculer la `moyenne`, la `trace`, le `déterminant` et le `rang` de la matrice\n",
    "\n",
    "> Calculer la `transposée` de la matrice\n",
    "\n",
    "> Transformer la matrice en une liste\n",
    "\n",
    "> Extraire la `diagonal` de la matrice\n"
   ]
  },
  {
   "cell_type": "code",
   "execution_count": 0,
   "metadata": {
    "colab": {},
    "colab_type": "code",
    "id": "QAsoiWfAqBku"
   },
   "outputs": [],
   "source": [
    "import numpy as np\n",
    "addition100 = lambda i : i + 100\n",
    "\n",
    "matrix = np.array([[1,2],\n",
    "                   [3,4],\n",
    "                  [5,6]])\n",
    "\n",
    "matrix_addtion = np.vectorize(addition100)\n",
    "matrix100 = matrix_addtion(matrix)\n",
    "print(matrix100)"
   ]
  },
  {
   "cell_type": "markdown",
   "metadata": {
    "colab_type": "text",
    "id": "XBOFB2tXp5Xf"
   },
   "source": [
    "> Expliquez le code ci-dessus"
   ]
  },
  {
   "cell_type": "markdown",
   "metadata": {
    "colab_type": "text",
    "id": "WE5vahT0p2Zg"
   },
   "source": [
    "## [SciPy](https://docs.scipy.org/doc/scipy/reference/)\n"
   ]
  },
  {
   "cell_type": "markdown",
   "metadata": {
    "colab_type": "text",
    "id": "0to6uzRaVami"
   },
   "source": [
    "> Génération d'une matrice composée que de $1$ dans la diagonale et des $0$ parout ailleurs "
   ]
  },
  {
   "cell_type": "code",
   "execution_count": 0,
   "metadata": {
    "colab": {},
    "colab_type": "code",
    "id": "2LAFLOSop2Zh"
   },
   "outputs": [],
   "source": [
    "from scipy import sparse\n",
    "\n",
    "eye = np.eye(4,4,dtype=float,k=0)\n",
    "print(\"NumPy array:\\n\", eye)"
   ]
  },
  {
   "cell_type": "code",
   "execution_count": 0,
   "metadata": {
    "colab": {},
    "colab_type": "code",
    "id": "I6qThzRbp2Zm"
   },
   "outputs": [],
   "source": [
    "sparse_matrix = sparse.csr_matrix(eye)\n",
    "print(\"\\nSciPy sparse CSR matrix:\\n\", sparse_matrix)"
   ]
  },
  {
   "cell_type": "markdown",
   "metadata": {
    "colab_type": "text",
    "id": "59q2K1jPp2Zl"
   },
   "source": [
    "> Que réalise le code ci-dessus"
   ]
  },
  {
   "cell_type": "markdown",
   "metadata": {
    "colab_type": "text",
    "id": "9eSlLctvp2Zq"
   },
   "source": [
    "> Modifiez $k$ en $1$ puis en $-1$, ensuite regénérez la matrice CSR."
   ]
  },
  {
   "cell_type": "code",
   "execution_count": 0,
   "metadata": {
    "colab": {},
    "colab_type": "code",
    "id": "le5l6RmHp2Zr"
   },
   "outputs": [],
   "source": [
    "data = np.ones(4)\n",
    "row_indices = np.arange(4)\n",
    "col_indices = np.arange(4)\n",
    "eye_coo = sparse.coo_matrix((data, (row_indices, col_indices)))\n",
    "print(\"COO representation:\\n\", eye_coo)"
   ]
  },
  {
   "cell_type": "markdown",
   "metadata": {
    "colab_type": "text",
    "id": "v5RJ-F_mp2Zv"
   },
   "source": [
    "Quelle est la différence avec la première méthode ?"
   ]
  },
  {
   "cell_type": "markdown",
   "metadata": {
    "colab_type": "text",
    "id": "i3La0B_Ip2Zw"
   },
   "source": [
    "## [matplotlib](https://github.com/ageron/handson-ml2/blob/master/tools_matplotlib.ipynb)\n",
    "*C'est une librairie python pour la génération de graphiques*"
   ]
  },
  {
   "cell_type": "code",
   "execution_count": 3,
   "metadata": {
    "colab": {
     "base_uri": "https://localhost:8080/",
     "height": 283
    },
    "colab_type": "code",
    "id": "viE1lEfpp2Zx",
    "outputId": "0d34d628-f832-43fb-80a5-3047f2033fe0"
   },
   "outputs": [
    {
     "data": {
      "image/png": "[encoded data removed]",
      "text/plain": [
       "<Figure size 432x288 with 1 Axes>"
      ]
     },
     "metadata": {
      "tags": []
     },
     "output_type": "display_data"
    },
    {
     "data": {
      "text/plain": [
       "<Figure size 432x288 with 0 Axes>"
      ]
     },
     "metadata": {
      "tags": []
     },
     "output_type": "display_data"
    }
   ],
   "source": [
    "%matplotlib inline\n",
    "#%matplotlib notebook\n",
    "import matplotlib.pyplot as plt\n",
    "import numpy as np\n",
    "\n",
    "x = np.linspace(-10, 10, 100)\n",
    "\n",
    "# Créer les valeurs de y en utilisant la fonction sign utilisé dans l'algorithme de percertron\n",
    "y = np.sign(x)\n",
    "\n",
    "# Visualisation des données\n",
    "plt.plot(x, y, marker=\"+\")\n",
    "plt.show()\n",
    "plt.savefig(\"ma_sigmoid_fonction.png\", transparent=True)"
   ]
  },
  {
   "cell_type": "markdown",
   "metadata": {
    "colab_type": "text",
    "id": "wGVMAQF8p2Z1"
   },
   "source": [
    "> Ajouter une étiquette à chaque axe x et y\n",
    "\n",
    "> Ajouter un titre au graphique\n",
    "\n",
    "> Afficher les fonctions suivantes : cos, sign, exp\n"
   ]
  },
  {
   "cell_type": "code",
   "execution_count": 0,
   "metadata": {
    "colab": {},
    "colab_type": "code",
    "id": "IfDd1bX1EtpZ"
   },
   "outputs": [],
   "source": [
    "x = np.linspace(-1.4, 1.4, 30)\n",
    "plt.subplot(2, 2, 1)  \n",
    "plt.plot(x, x)\n",
    "plt.subplot(2, 2, 2) \n",
    "plt.plot(x, x**2)\n",
    "plt.subplot(2, 2, 3) \n",
    "plt.plot(x, x**3)\n",
    "plt.subplot(2, 2, 4)  \n",
    "plt.plot(x, x**4)\n",
    "plt.show()"
   ]
  },
  {
   "cell_type": "code",
   "execution_count": 0,
   "metadata": {
    "colab": {},
    "colab_type": "code",
    "id": "wms5Z3JP4M5E"
   },
   "outputs": [],
   "source": [
    "x = np.linspace(-1.4, 1.4, 30)\n",
    "y = np.linspace(1, 10, 30)\n",
    "fig, ax = plt.subplots(nrows=2, ncols=2, figsize=(5,5))\n",
    "\n",
    "ax[0][0].set_xlim(-2,2)\n",
    "ax[0][0].set_xlabel(r'$x$')\n",
    "ax[0][0].set_ylabel(r'$y$')\n",
    "ax[0][0].set_title('Titre')\n",
    "\n",
    "\n",
    "ax[0][0].grid(True)\n",
    "ax[1][0].grid(True)\n",
    "\n",
    "\n",
    "ax[0][0].scatter(x, y, marker='+', s=4, color='g')\n",
    "\n",
    "ax[1][1].plot(y, x,'r--', lw=2, label=r'$toto$')\n"
   ]
  },
  {
   "cell_type": "markdown",
   "metadata": {
    "colab_type": "text",
    "id": "acihnW196GZw"
   },
   "source": [
    "> Expliquez le fonctionnement de `subplot`"
   ]
  },
  {
   "cell_type": "code",
   "execution_count": 0,
   "metadata": {
    "colab": {},
    "colab_type": "code",
    "id": "_PSo0BLb6564"
   },
   "outputs": [],
   "source": [
    "\n",
    "x = np.linspace(-1.5, 1.5, 30)\n",
    "px = 0.8\n",
    "py = px**2\n",
    "\n",
    "plt.plot(x, x**2, \"b-\", px, py, \"ro\")\n",
    "\n",
    "plt.text(0, 1.5, \"Square function\\n$y = x^2$\", fontsize=20, color='blue', horizontalalignment=\"center\")\n",
    "plt.text(px - 0.08, py, \"Beautiful point\", ha=\"right\", weight=\"heavy\")\n",
    "plt.text(px, py, \"x = %0.2f\\ny = %0.2f\"%(px, py), rotation=50, color='gray')\n",
    "\n",
    "plt.show()"
   ]
  },
  {
   "cell_type": "code",
   "execution_count": 0,
   "metadata": {
    "colab": {},
    "colab_type": "code",
    "id": "w-T1WuP2A0Ad"
   },
   "outputs": [],
   "source": [
    "plt.plot(x, x**2, px, py, \"ro\")\n",
    "plt.annotate(\"Beautiful point\", xy=(px, py), xytext=(px-1.5,py+0.5),\n",
    "                           color=\"green\", weight=\"heavy\", fontsize=14,\n",
    "                           arrowprops={\"facecolor\": \"lightgreen\"})\n",
    "plt.show()"
   ]
  },
  {
   "cell_type": "markdown",
   "metadata": {
    "colab_type": "text",
    "id": "TJvKbbAmIZDP"
   },
   "source": [
    "> Expliquez le fonctionnement des fonctions `plt.text()` et `plt.annotate()`"
   ]
  },
  {
   "cell_type": "markdown",
   "metadata": {
    "colab_type": "text",
    "id": "ZuZTaG0Op2Z2"
   },
   "source": [
    "## [Pandas](https://github.com/ageron/handson-ml2/blob/master/tools_pandas.ipynb)\n",
    "\n",
    "Objectifs:\n",
    "\n",
    "- Introduction aux structures de données `DataFrame` et `Series` de la bibliothèque Pandas \n",
    "- Accéder aux données et les manipuler dans une structure `DataFrame` et `Series`\n",
    "- Importer des données d'un fichier CSV dans un `DataFrame` Pandas\n",
    "\n",
    "Pandas est une API d'analyse de données orientée colonnes. C'est un excellent outil pour manipuler et analyser des données d'entrée.\n",
    "\n",
    "Beaucoup de frameworks d'apprentissage automatique acceptent les structures de données Pandas en entrée. \n",
    "\n"
   ]
  },
  {
   "cell_type": "markdown",
   "metadata": {
    "colab_type": "text",
    "id": "ZjNzQt5_mlKY"
   },
   "source": [
    "On distingue deux grandes catégories de structures de données Pandas :\n",
    "\n",
    "1. Le `DataFrame`, un tableau relationnel de données, avec des lignes et des colonnes étiquetées\n",
    "1. La `Series`, constituée d'une seule colonne. \n",
    "\n",
    "Un `DataFrame` contient une ou plusieurs `Series`, chacune étant étiquetée."
   ]
  },
  {
   "cell_type": "markdown",
   "metadata": {
    "colab_type": "text",
    "id": "WTTuyMBvn-nn"
   },
   "source": [
    "Pour créer une `Series`, vous pouvez notamment créer un objet `Series`. Par exemple :"
   ]
  },
  {
   "cell_type": "code",
   "execution_count": 1,
   "metadata": {
    "colab": {},
    "colab_type": "code",
    "id": "3yhQ0C2noBFh"
   },
   "outputs": [
    {
     "data": {
      "text/plain": [
       "0    San Francisco\n",
       "1         San Jose\n",
       "2       Sacramento\n",
       "dtype: object"
      ]
     },
     "execution_count": 1,
     "metadata": {},
     "output_type": "execute_result"
    }
   ],
   "source": [
    "import pandas as pd\n",
    "from IPython.display import display\n",
    "\n",
    "pd.Series(['San Francisco', 'San Jose', 'Sacramento'])"
   ]
  },
  {
   "cell_type": "markdown",
   "metadata": {
    "colab_type": "text",
    "id": "C32qlRkJojDR"
   },
   "source": [
    "Pour créer un `DataFrame`, nous pouvons procéder de deux manières différentes:\n",
    "1. Il est possible de créer des objets `DataFrame` en transmettant un dictionnaire qui met en correspondance les noms de colonnes (des chaînes de caractères) avec leur `Series` respective. Lorsque la longueur de la Series ne correspond pas, les valeurs manquantes sont remplacées par des valeurs `NA/NaN` spéciales. Exemple :"
   ]
  },
  {
   "cell_type": "code",
   "execution_count": 2,
   "metadata": {
    "colab": {},
    "colab_type": "code",
    "id": "UefwgR8co6u0"
   },
   "outputs": [
    {
     "name": "stdout",
     "output_type": "stream",
     "text": [
      "    Name       Location  Age\n",
      "0   John       New York   24\n",
      "1   Anna          Paris   13\n",
      "2  Peter         Berlin   53\n",
      "3  Linda  San fransisco   33\n"
     ]
    },
    {
     "data": {
      "text/html": [
       "<div>\n",
       "<style scoped>\n",
       "    .dataframe tbody tr th:only-of-type {\n",
       "        vertical-align: middle;\n",
       "    }\n",
       "\n",
       "    .dataframe tbody tr th {\n",
       "        vertical-align: top;\n",
       "    }\n",
       "\n",
       "    .dataframe thead th {\n",
       "        text-align: right;\n",
       "    }\n",
       "</style>\n",
       "<table border=\"1\" class=\"dataframe\">\n",
       "  <thead>\n",
       "    <tr style=\"text-align: right;\">\n",
       "      <th></th>\n",
       "      <th>Name</th>\n",
       "      <th>Location</th>\n",
       "      <th>Age</th>\n",
       "    </tr>\n",
       "  </thead>\n",
       "  <tbody>\n",
       "    <tr>\n",
       "      <th>0</th>\n",
       "      <td>John</td>\n",
       "      <td>New York</td>\n",
       "      <td>24</td>\n",
       "    </tr>\n",
       "    <tr>\n",
       "      <th>1</th>\n",
       "      <td>Anna</td>\n",
       "      <td>Paris</td>\n",
       "      <td>13</td>\n",
       "    </tr>\n",
       "    <tr>\n",
       "      <th>2</th>\n",
       "      <td>Peter</td>\n",
       "      <td>Berlin</td>\n",
       "      <td>53</td>\n",
       "    </tr>\n",
       "    <tr>\n",
       "      <th>3</th>\n",
       "      <td>Linda</td>\n",
       "      <td>San fransisco</td>\n",
       "      <td>33</td>\n",
       "    </tr>\n",
       "  </tbody>\n",
       "</table>\n",
       "</div>"
      ],
      "text/plain": [
       "    Name       Location  Age\n",
       "0   John       New York   24\n",
       "1   Anna          Paris   13\n",
       "2  Peter         Berlin   53\n",
       "3  Linda  San fransisco   33"
      ]
     },
     "metadata": {},
     "output_type": "display_data"
    }
   ],
   "source": [
    "names = pd.Series([\"John\", \"Anna\", \"Peter\", \"Linda\"])\n",
    "locations = pd.Series([\"New York\", \"Paris\", \"Berlin\", \"San fransisco\"])\n",
    "ages = pd.Series([24, 13, 53, 33])\n",
    "data_pandas = pd.DataFrame({ 'Name': names, 'Location': locations, 'Age' : ages })\n",
    "print(data_pandas.head())\n",
    "display(data_pandas)"
   ]
  },
  {
   "cell_type": "markdown",
   "metadata": {
    "colab_type": "text",
    "id": "-6kGIpRxpoQk"
   },
   "source": [
    "2. Sans passer par les `Series` en utilisant de simples listes"
   ]
  },
  {
   "cell_type": "code",
   "execution_count": 4,
   "metadata": {
    "colab": {},
    "colab_type": "code",
    "id": "qoK0Km59p2Z2"
   },
   "outputs": [
    {
     "data": {
      "text/html": [
       "<div>\n",
       "<style scoped>\n",
       "    .dataframe tbody tr th:only-of-type {\n",
       "        vertical-align: middle;\n",
       "    }\n",
       "\n",
       "    .dataframe tbody tr th {\n",
       "        vertical-align: top;\n",
       "    }\n",
       "\n",
       "    .dataframe thead th {\n",
       "        text-align: right;\n",
       "    }\n",
       "</style>\n",
       "<table border=\"1\" class=\"dataframe\">\n",
       "  <thead>\n",
       "    <tr style=\"text-align: right;\">\n",
       "      <th></th>\n",
       "      <th>Name</th>\n",
       "      <th>Location</th>\n",
       "      <th>Age</th>\n",
       "    </tr>\n",
       "  </thead>\n",
       "  <tbody>\n",
       "    <tr>\n",
       "      <th>0</th>\n",
       "      <td>John</td>\n",
       "      <td>New York</td>\n",
       "      <td>24</td>\n",
       "    </tr>\n",
       "    <tr>\n",
       "      <th>1</th>\n",
       "      <td>Anna</td>\n",
       "      <td>Paris</td>\n",
       "      <td>13</td>\n",
       "    </tr>\n",
       "    <tr>\n",
       "      <th>2</th>\n",
       "      <td>Peter</td>\n",
       "      <td>Berlin</td>\n",
       "      <td>53</td>\n",
       "    </tr>\n",
       "    <tr>\n",
       "      <th>3</th>\n",
       "      <td>Linda</td>\n",
       "      <td>San fransisco</td>\n",
       "      <td>33</td>\n",
       "    </tr>\n",
       "  </tbody>\n",
       "</table>\n",
       "</div>"
      ],
      "text/plain": [
       "    Name       Location  Age\n",
       "0   John       New York   24\n",
       "1   Anna          Paris   13\n",
       "2  Peter         Berlin   53\n",
       "3  Linda  San fransisco   33"
      ]
     },
     "metadata": {},
     "output_type": "display_data"
    },
    {
     "data": {
      "text/html": [
       "<div>\n",
       "<style scoped>\n",
       "    .dataframe tbody tr th:only-of-type {\n",
       "        vertical-align: middle;\n",
       "    }\n",
       "\n",
       "    .dataframe tbody tr th {\n",
       "        vertical-align: top;\n",
       "    }\n",
       "\n",
       "    .dataframe thead th {\n",
       "        text-align: right;\n",
       "    }\n",
       "</style>\n",
       "<table border=\"1\" class=\"dataframe\">\n",
       "  <thead>\n",
       "    <tr style=\"text-align: right;\">\n",
       "      <th></th>\n",
       "      <th>Name</th>\n",
       "      <th>Location</th>\n",
       "      <th>Age</th>\n",
       "    </tr>\n",
       "  </thead>\n",
       "  <tbody>\n",
       "    <tr>\n",
       "      <th>0</th>\n",
       "      <td>John</td>\n",
       "      <td>New York</td>\n",
       "      <td>24</td>\n",
       "    </tr>\n",
       "    <tr>\n",
       "      <th>1</th>\n",
       "      <td>Anna</td>\n",
       "      <td>Paris</td>\n",
       "      <td>13</td>\n",
       "    </tr>\n",
       "    <tr>\n",
       "      <th>2</th>\n",
       "      <td>Peter</td>\n",
       "      <td>Berlin</td>\n",
       "      <td>53</td>\n",
       "    </tr>\n",
       "    <tr>\n",
       "      <th>3</th>\n",
       "      <td>Linda</td>\n",
       "      <td>San fransisco</td>\n",
       "      <td>33</td>\n",
       "    </tr>\n",
       "  </tbody>\n",
       "</table>\n",
       "</div>"
      ],
      "text/plain": [
       "    Name       Location  Age\n",
       "0   John       New York   24\n",
       "1   Anna          Paris   13\n",
       "2  Peter         Berlin   53\n",
       "3  Linda  San fransisco   33"
      ]
     },
     "metadata": {},
     "output_type": "display_data"
    },
    {
     "data": {
      "text/html": [
       "<div>\n",
       "<style scoped>\n",
       "    .dataframe tbody tr th:only-of-type {\n",
       "        vertical-align: middle;\n",
       "    }\n",
       "\n",
       "    .dataframe tbody tr th {\n",
       "        vertical-align: top;\n",
       "    }\n",
       "\n",
       "    .dataframe thead th {\n",
       "        text-align: right;\n",
       "    }\n",
       "</style>\n",
       "<table border=\"1\" class=\"dataframe\">\n",
       "  <thead>\n",
       "    <tr style=\"text-align: right;\">\n",
       "      <th></th>\n",
       "      <th>Name</th>\n",
       "      <th>Location</th>\n",
       "      <th>Age</th>\n",
       "    </tr>\n",
       "  </thead>\n",
       "  <tbody>\n",
       "    <tr>\n",
       "      <th>1</th>\n",
       "      <td>Anna</td>\n",
       "      <td>Paris</td>\n",
       "      <td>13</td>\n",
       "    </tr>\n",
       "    <tr>\n",
       "      <th>3</th>\n",
       "      <td>Linda</td>\n",
       "      <td>San fransisco</td>\n",
       "      <td>33</td>\n",
       "    </tr>\n",
       "  </tbody>\n",
       "</table>\n",
       "</div>"
      ],
      "text/plain": [
       "    Name       Location  Age\n",
       "1   Anna          Paris   13\n",
       "3  Linda  San fransisco   33"
      ]
     },
     "metadata": {},
     "output_type": "display_data"
    }
   ],
   "source": [
    "data = {'Name': [\"John\", \"Anna\", \"Peter\", \"Linda\"],\n",
    "        'Location' : [\"New York\", \"Paris\", \"Berlin\", \"San fransisco\"],\n",
    "        'Age' : [24, 13, 53, 33]\n",
    "       }\n",
    "\n",
    "data_pandas = pd.DataFrame(data)\n",
    "\n",
    "display(data_pandas)\n",
    "display(data_pandas.tail())\n",
    "display(data_pandas.sample(2))"
   ]
  },
  {
   "cell_type": "markdown",
   "metadata": {
    "colab_type": "text",
    "id": "tOYh98aiul-j"
   },
   "source": [
    "3. A partir d'un fichier CSV:"
   ]
  },
  {
   "cell_type": "code",
   "execution_count": 0,
   "metadata": {
    "colab": {},
    "colab_type": "code",
    "id": "ZpZ8ByGGuq_u"
   },
   "outputs": [],
   "source": [
    "#ramprice = pd.read_csv('ram_price.csv',delimiter=',') # ram_price.csv est dans le dossier courrant\n",
    "ramprice = pd.read_csv('https://raw.githubusercontent.com/securitylab-repository/TPS-IA/master/datasets/ram_price.csv',delimiter=',')\n",
    "display(ramprice.head())"
   ]
  },
  {
   "cell_type": "markdown",
   "metadata": {
    "colab_type": "text",
    "id": "ASogTnd-xP4u"
   },
   "source": [
    "La méthode `DataFrame.describe` permet d'afficher des statistiques intéressantes concernant un `DataFrame`"
   ]
  },
  {
   "cell_type": "code",
   "execution_count": 0,
   "metadata": {
    "colab": {},
    "colab_type": "code",
    "id": "IkpmIH7KxUpM"
   },
   "outputs": [],
   "source": [
    "ramprice.describe()"
   ]
  },
  {
   "cell_type": "markdown",
   "metadata": {
    "colab_type": "text",
    "id": "_thhNXXsxYC6"
   },
   "source": [
    "Autre fonction puissante de Pandas : la représentation graphique. Avec `DataFrame.hist()`, par exemple, vous pouvez vérifier rapidement la façon dont les valeurs d'une colonne (features) sont distribuées :"
   ]
  },
  {
   "cell_type": "code",
   "execution_count": 0,
   "metadata": {
    "colab": {},
    "colab_type": "code",
    "id": "e5iGAIpqvtdD"
   },
   "outputs": [],
   "source": [
    "ramprice.hist('price')"
   ]
  },
  {
   "cell_type": "markdown",
   "metadata": {
    "colab_type": "text",
    "id": "-jstJh-PGDEC"
   },
   "source": [
    "L'accès aux données d'un `DataFrame` s'effectue au moyen d'opérations de liste ou de dictionnaire Python courantes :"
   ]
  },
  {
   "cell_type": "code",
   "execution_count": 0,
   "metadata": {
    "colab": {},
    "colab_type": "code",
    "id": "X9LAPXhsFPcx"
   },
   "outputs": [],
   "source": [
    "names = pd.Series([\"John\", \"Anna\", \"Peter\", \"Linda\"])\n",
    "locations = pd.Series([\"New York\", \"Paris\", \"Berlin\", \"San fransisco\"])\n",
    "ages = pd.Series([24, 13, 53, 33])\n",
    "data_pandas = pd.DataFrame({ 'Name': names, 'Location': locations, 'Age' : ages })\n",
    "\n",
    "#print(type(data_pandas['Name']))\n",
    "#display(data_pandas['Name'])\n",
    "\n",
    "#print(type(data_pandas['Name'][0]))\n",
    "#display(data_pandas['Name'][0])\n",
    "\n",
    "print(type(data_pandas[0:2]))\n",
    "display(data_pandas[0:2])\n"
   ]
  },
  {
   "cell_type": "markdown",
   "metadata": {
    "colab_type": "text",
    "id": "IZxtnj8GJY0N"
   },
   "source": [
    "Il est possible d'effectuer des opérations arithmétiques de base de Python sur les Series"
   ]
  },
  {
   "cell_type": "code",
   "execution_count": 5,
   "metadata": {
    "colab": {},
    "colab_type": "code",
    "id": "-3H0vDujJe-9"
   },
   "outputs": [
    {
     "data": {
      "text/html": [
       "<div>\n",
       "<style scoped>\n",
       "    .dataframe tbody tr th:only-of-type {\n",
       "        vertical-align: middle;\n",
       "    }\n",
       "\n",
       "    .dataframe tbody tr th {\n",
       "        vertical-align: top;\n",
       "    }\n",
       "\n",
       "    .dataframe thead th {\n",
       "        text-align: right;\n",
       "    }\n",
       "</style>\n",
       "<table border=\"1\" class=\"dataframe\">\n",
       "  <thead>\n",
       "    <tr style=\"text-align: right;\">\n",
       "      <th></th>\n",
       "      <th>Name</th>\n",
       "      <th>Location</th>\n",
       "      <th>Age</th>\n",
       "      <th>notes_maths</th>\n",
       "      <th>notes_info</th>\n",
       "      <th>moy</th>\n",
       "    </tr>\n",
       "  </thead>\n",
       "  <tbody>\n",
       "    <tr>\n",
       "      <th>0</th>\n",
       "      <td>John</td>\n",
       "      <td>New York</td>\n",
       "      <td>24</td>\n",
       "      <td>10.0</td>\n",
       "      <td>14.0</td>\n",
       "      <td>12.00</td>\n",
       "    </tr>\n",
       "    <tr>\n",
       "      <th>1</th>\n",
       "      <td>Anna</td>\n",
       "      <td>Paris</td>\n",
       "      <td>13</td>\n",
       "      <td>10.5</td>\n",
       "      <td>9.0</td>\n",
       "      <td>9.75</td>\n",
       "    </tr>\n",
       "    <tr>\n",
       "      <th>2</th>\n",
       "      <td>Peter</td>\n",
       "      <td>Berlin</td>\n",
       "      <td>53</td>\n",
       "      <td>12.0</td>\n",
       "      <td>6.0</td>\n",
       "      <td>9.00</td>\n",
       "    </tr>\n",
       "    <tr>\n",
       "      <th>3</th>\n",
       "      <td>Linda</td>\n",
       "      <td>San fransisco</td>\n",
       "      <td>33</td>\n",
       "      <td>1.0</td>\n",
       "      <td>20.0</td>\n",
       "      <td>10.50</td>\n",
       "    </tr>\n",
       "  </tbody>\n",
       "</table>\n",
       "</div>"
      ],
      "text/plain": [
       "    Name       Location  Age  notes_maths  notes_info    moy\n",
       "0   John       New York   24         10.0        14.0  12.00\n",
       "1   Anna          Paris   13         10.5         9.0   9.75\n",
       "2  Peter         Berlin   53         12.0         6.0   9.00\n",
       "3  Linda  San fransisco   33          1.0        20.0  10.50"
      ]
     },
     "metadata": {},
     "output_type": "display_data"
    }
   ],
   "source": [
    "notes_maths = pd.Series([10,10.5,12,1])\n",
    "notes_info = pd.Series([14.0,9,6,20])\n",
    "data_pandas['notes_maths'] = notes_maths\n",
    "data_pandas['notes_info'] = notes_info \n",
    "data_pandas['moy'] = (data_pandas['notes_maths']  + data_pandas['notes_info'])/2 \n",
    "display(data_pandas)"
   ]
  },
  {
   "cell_type": "markdown",
   "metadata": {
    "colab_type": "text",
    "id": "m1rlTiUzleY1"
   },
   "source": [
    "> Sélectionner toutes les lignes dont l'age est supérieur à $30$\n",
    " \n",
    "> Sélectionner toutes les lignes dont l'age est supérieur à $13$ et la moy > $10$\n",
    "\n",
    "> Sélectionner toutes les lignes correspondant à \"Anna\""
   ]
  },
  {
   "cell_type": "markdown",
   "metadata": {
    "colab_type": "text",
    "id": "fzhd4bSTNMim"
   },
   "source": [
    "La méthode `Series.apply` convient pour les transformations à une colonne plus complexes. Comme la fonction map de Python, elle accepte en argument une fonction lambda, appliquée à chaque valeur.\n"
   ]
  },
  {
   "cell_type": "code",
   "execution_count": 6,
   "metadata": {
    "colab": {},
    "colab_type": "code",
    "id": "XpScDmyGNN63"
   },
   "outputs": [
    {
     "data": {
      "text/plain": [
       "0     True\n",
       "1    False\n",
       "2    False\n",
       "3     True\n",
       "dtype: bool"
      ]
     },
     "execution_count": 6,
     "metadata": {},
     "output_type": "execute_result"
    }
   ],
   "source": [
    "notes_info.apply(lambda val: val > 10)"
   ]
  },
  {
   "cell_type": "markdown",
   "metadata": {
    "colab_type": "text",
    "id": "ayESVitvMw9A"
   },
   "source": [
    "> Que réalise le code ci-dessus ?"
   ]
  },
  {
   "cell_type": "markdown",
   "metadata": {
    "colab_type": "text",
    "id": "Xj3NmcZfdeWe"
   },
   "source": [
    " ## Exercice n° 1\n",
    "\n",
    "Modifiez  `data_pandas` en ajoutant une colonne booléenne qui prend la valeur `True` si et seulement si les *deux* conditions suivantes sont remplies :\n",
    "\n",
    "  * La ville porte le nom d'un saint.\n",
    "  * La moy est supérieure à $10$.\n",
    "\n",
    "**Remarque** : Pour combiner des `Series` booléennes, utilisez des opérateurs de bits, pas les opérateurs booléens classiques. Par exemple, pour le *ET logique*, utilisez `&` au lieu de `and`.\n",
    "\n",
    "**Indication** : utiliser la fonction `startswith()` de la classe `String`\n",
    "\n",
    "**Astuce** : En espagnol, \"San\" signifie \"saint\"."
   ]
  },
  {
   "cell_type": "code",
   "execution_count": 10,
   "metadata": {},
   "outputs": [
    {
     "data": {
      "text/plain": [
       "0    False\n",
       "1    False\n",
       "2    False\n",
       "3     True\n",
       "Name: colonne bool, dtype: bool"
      ]
     },
     "metadata": {},
     "output_type": "display_data"
    }
   ],
   "source": [
    "data_pandas['colonne bool'] = (data_pandas['moy'] > 10) & data_pandas['Location'].apply(lambda name: name.startswith('San'))\n",
    "display(data_pandas['colonne bool'])"
   ]
  },
  {
   "cell_type": "markdown",
   "metadata": {
    "colab_type": "text",
    "id": "5C4AWEZkrLud"
   },
   "source": [
    " ## Exercice n° 2\n",
    "1. Récupérez ce [dataset](https://raw.githubusercontent.com/securitylab-repository/TPS-IA/master/datasets/housing.csv) au format CSV représentant des données immobilières\n"
   ]
  },
  {
   "cell_type": "code",
   "execution_count": 0,
   "metadata": {
    "colab": {},
    "colab_type": "code",
    "id": "rZWEuGRBzHbv"
   },
   "outputs": [],
   "source": [
    "import pandas as pd\n",
    "import numpy as np\n",
    "from IPython.display import display\n",
    "\n",
    "housing = pd.read_csv('https://raw.githubusercontent.com/securitylab-repository/TPS-IA/master/datasets/housing.csv',delimiter=',')\n"
   ]
  },
  {
   "cell_type": "markdown",
   "metadata": {
    "colab_type": "text",
    "id": "QQY1-V6OZJ-U"
   },
   "source": [
    "2. Afficher les statistiques sur le dataset"
   ]
  },
  {
   "cell_type": "code",
   "execution_count": 0,
   "metadata": {
    "colab": {},
    "colab_type": "code",
    "id": "NoFiAoprkYzI"
   },
   "outputs": [],
   "source": [
    "print(housing.describe())"
   ]
  },
  {
   "cell_type": "markdown",
   "metadata": {
    "colab_type": "text",
    "id": "s5i0_eLSakzX"
   },
   "source": [
    "3. Supprimer les lignes dont certaines colonnes ne ne sont pas définies. On utilisera:\n",
    "-  `housing[housing.isnull().any(axis=1)]` pour détecter les valeurs nulles\n",
    "- `housing.dropna(subset=[\"nom_colonne\"])` pour les supprimer"
   ]
  },
  {
   "cell_type": "code",
   "execution_count": 0,
   "metadata": {
    "colab": {},
    "colab_type": "code",
    "id": "BQTIi9c1kpWL"
   },
   "outputs": [],
   "source": [
    "incomplete_rows = housing[housing.isnull().any(axis=1)]\n",
    "\n",
    "display(incomplete_rows)\n",
    "housing = housing.dropna(subset=[\"total_bedrooms\"])\n",
    "incomplete_rows =  housing[housing.isnull().any(axis=1)]\n",
    "display(incomplete_rows)\n",
    "display (housing)"
   ]
  },
  {
   "cell_type": "markdown",
   "metadata": {
    "colab_type": "text",
    "id": "nn8NvjVyl_hX"
   },
   "source": [
    "4. Transformez les valeurs de la colonne `ocean_proximity` en nombre. Utilisez la classe `OrdinalEncoder` de la librairie `sklearn.preprocessing`"
   ]
  },
  {
   "cell_type": "code",
   "execution_count": 0,
   "metadata": {
    "colab": {
     "base_uri": "https://localhost:8080/",
     "height": 393
    },
    "colab_type": "code",
    "id": "UElYuEf4_y_Y",
    "outputId": "fd49dd6d-eb23-4438-93fd-08d264c1591b"
   },
   "outputs": [
    {
     "name": "stdout",
     "output_type": "stream",
     "text": [
      "<class 'numpy.ndarray'>\n"
     ]
    },
    {
     "data": {
      "text/html": [
       "<div>\n",
       "<style scoped>\n",
       "    .dataframe tbody tr th:only-of-type {\n",
       "        vertical-align: middle;\n",
       "    }\n",
       "\n",
       "    .dataframe tbody tr th {\n",
       "        vertical-align: top;\n",
       "    }\n",
       "\n",
       "    .dataframe thead th {\n",
       "        text-align: right;\n",
       "    }\n",
       "</style>\n",
       "<table border=\"1\" class=\"dataframe\">\n",
       "  <thead>\n",
       "    <tr style=\"text-align: right;\">\n",
       "      <th></th>\n",
       "      <th>longitude</th>\n",
       "      <th>latitude</th>\n",
       "      <th>housing_median_age</th>\n",
       "      <th>total_rooms</th>\n",
       "      <th>total_bedrooms</th>\n",
       "      <th>population</th>\n",
       "      <th>households</th>\n",
       "      <th>median_income</th>\n",
       "      <th>median_house_value</th>\n",
       "      <th>ocean_proximity</th>\n",
       "    </tr>\n",
       "  </thead>\n",
       "  <tbody>\n",
       "    <tr>\n",
       "      <th>13943</th>\n",
       "      <td>-117.19</td>\n",
       "      <td>34.27</td>\n",
       "      <td>16.0</td>\n",
       "      <td>7961.0</td>\n",
       "      <td>1147.0</td>\n",
       "      <td>879.0</td>\n",
       "      <td>280.0</td>\n",
       "      <td>5.2146</td>\n",
       "      <td>255200.0</td>\n",
       "      <td>1.0</td>\n",
       "    </tr>\n",
       "    <tr>\n",
       "      <th>20173</th>\n",
       "      <td>-119.17</td>\n",
       "      <td>34.29</td>\n",
       "      <td>18.0</td>\n",
       "      <td>3932.0</td>\n",
       "      <td>724.0</td>\n",
       "      <td>1896.0</td>\n",
       "      <td>680.0</td>\n",
       "      <td>5.2953</td>\n",
       "      <td>279400.0</td>\n",
       "      <td>4.0</td>\n",
       "    </tr>\n",
       "    <tr>\n",
       "      <th>9365</th>\n",
       "      <td>-122.54</td>\n",
       "      <td>37.94</td>\n",
       "      <td>26.0</td>\n",
       "      <td>3990.0</td>\n",
       "      <td>804.0</td>\n",
       "      <td>1550.0</td>\n",
       "      <td>792.0</td>\n",
       "      <td>5.1834</td>\n",
       "      <td>405500.0</td>\n",
       "      <td>3.0</td>\n",
       "    </tr>\n",
       "    <tr>\n",
       "      <th>4954</th>\n",
       "      <td>-118.31</td>\n",
       "      <td>34.02</td>\n",
       "      <td>46.0</td>\n",
       "      <td>2217.0</td>\n",
       "      <td>489.0</td>\n",
       "      <td>1227.0</td>\n",
       "      <td>448.0</td>\n",
       "      <td>1.6851</td>\n",
       "      <td>108800.0</td>\n",
       "      <td>0.0</td>\n",
       "    </tr>\n",
       "    <tr>\n",
       "      <th>11224</th>\n",
       "      <td>-117.94</td>\n",
       "      <td>33.81</td>\n",
       "      <td>25.0</td>\n",
       "      <td>1731.0</td>\n",
       "      <td>482.0</td>\n",
       "      <td>1127.0</td>\n",
       "      <td>455.0</td>\n",
       "      <td>3.2560</td>\n",
       "      <td>214300.0</td>\n",
       "      <td>0.0</td>\n",
       "    </tr>\n",
       "    <tr>\n",
       "      <th>3214</th>\n",
       "      <td>-119.64</td>\n",
       "      <td>36.34</td>\n",
       "      <td>32.0</td>\n",
       "      <td>2958.0</td>\n",
       "      <td>670.0</td>\n",
       "      <td>1504.0</td>\n",
       "      <td>627.0</td>\n",
       "      <td>1.8606</td>\n",
       "      <td>56700.0</td>\n",
       "      <td>1.0</td>\n",
       "    </tr>\n",
       "    <tr>\n",
       "      <th>9529</th>\n",
       "      <td>-123.15</td>\n",
       "      <td>38.94</td>\n",
       "      <td>22.0</td>\n",
       "      <td>2163.0</td>\n",
       "      <td>436.0</td>\n",
       "      <td>1048.0</td>\n",
       "      <td>358.0</td>\n",
       "      <td>2.7171</td>\n",
       "      <td>95800.0</td>\n",
       "      <td>0.0</td>\n",
       "    </tr>\n",
       "    <tr>\n",
       "      <th>18061</th>\n",
       "      <td>-122.01</td>\n",
       "      <td>37.25</td>\n",
       "      <td>31.0</td>\n",
       "      <td>1574.0</td>\n",
       "      <td>193.0</td>\n",
       "      <td>551.0</td>\n",
       "      <td>191.0</td>\n",
       "      <td>10.2311</td>\n",
       "      <td>500001.0</td>\n",
       "      <td>0.0</td>\n",
       "    </tr>\n",
       "    <tr>\n",
       "      <th>2676</th>\n",
       "      <td>-115.59</td>\n",
       "      <td>32.96</td>\n",
       "      <td>17.0</td>\n",
       "      <td>841.0</td>\n",
       "      <td>146.0</td>\n",
       "      <td>473.0</td>\n",
       "      <td>154.0</td>\n",
       "      <td>3.1979</td>\n",
       "      <td>113500.0</td>\n",
       "      <td>1.0</td>\n",
       "    </tr>\n",
       "    <tr>\n",
       "      <th>19349</th>\n",
       "      <td>-123.01</td>\n",
       "      <td>38.67</td>\n",
       "      <td>33.0</td>\n",
       "      <td>914.0</td>\n",
       "      <td>147.0</td>\n",
       "      <td>394.0</td>\n",
       "      <td>132.0</td>\n",
       "      <td>4.6875</td>\n",
       "      <td>246200.0</td>\n",
       "      <td>0.0</td>\n",
       "    </tr>\n",
       "  </tbody>\n",
       "</table>\n",
       "</div>"
      ],
      "text/plain": [
       "       longitude  latitude  ...  median_house_value  ocean_proximity\n",
       "13943    -117.19     34.27  ...            255200.0              1.0\n",
       "20173    -119.17     34.29  ...            279400.0              4.0\n",
       "9365     -122.54     37.94  ...            405500.0              3.0\n",
       "4954     -118.31     34.02  ...            108800.0              0.0\n",
       "11224    -117.94     33.81  ...            214300.0              0.0\n",
       "3214     -119.64     36.34  ...             56700.0              1.0\n",
       "9529     -123.15     38.94  ...             95800.0              0.0\n",
       "18061    -122.01     37.25  ...            500001.0              0.0\n",
       "2676     -115.59     32.96  ...            113500.0              1.0\n",
       "19349    -123.01     38.67  ...            246200.0              0.0\n",
       "\n",
       "[10 rows x 10 columns]"
      ]
     },
     "execution_count": 54,
     "metadata": {
      "tags": []
     },
     "output_type": "execute_result"
    }
   ],
   "source": [
    "from sklearn.preprocessing import OrdinalEncoder\n",
    "\n",
    "\n",
    "ocean_column = housing[[\"ocean_proximity\"]]\n",
    "ordinal_encoder = OrdinalEncoder()\n",
    "housing_cat_encoded = ordinal_encoder.fit_transform(ocean_column)\n",
    "print(type(housing_cat_encoded))\n",
    "housing_cat_encoded[:100]\n",
    "#ordinal_encoder.categories_\n",
    "housing[\"ocean_proximity\"] = housing_cat_encoded\n",
    "housing.sample(10)"
   ]
  },
  {
   "cell_type": "markdown",
   "metadata": {
    "colab_type": "text",
    "id": "RnadMLZuoEzL"
   },
   "source": [
    "5. Afficher l'hitogramme de chaque colonne"
   ]
  },
  {
   "cell_type": "code",
   "execution_count": 0,
   "metadata": {
    "colab": {
     "base_uri": "https://localhost:8080/",
     "height": 899
    },
    "colab_type": "code",
    "id": "5zoUFnVqoCoa",
    "outputId": "fe5c8bb2-dee6-4963-cad7-ed0ccc643e11"
   },
   "outputs": [
    {
     "data": {
      "image/png": "[encoded data removed]",
      "text/plain": [
       "<Figure size 1440x1080 with 12 Axes>"
      ]
     },
     "metadata": {
      "tags": []
     },
     "output_type": "display_data"
    }
   ],
   "source": [
    "#housing.describe()%matplotlib inline\n",
    "import matplotlib.pyplot as plt\n",
    "housing.hist(bins=50, figsize=(20,15))\n",
    "#save_fig(\"attribute_histogram_plots\")\n",
    "plt.show()"
   ]
  },
  {
   "cell_type": "markdown",
   "metadata": {
    "colab_type": "text",
    "id": "i1fnMOtQodMi"
   },
   "source": [
    "6. Normalisez le dataset"
   ]
  },
  {
   "cell_type": "code",
   "execution_count": 0,
   "metadata": {
    "colab": {},
    "colab_type": "code",
    "id": "3f2_6STHYr9Q"
   },
   "outputs": [],
   "source": [
    "for col in housing.columns:\n",
    "  housing[col] = (housing[col] - housing[col].median()) / (housing[col].max() - housing[col].min())\n",
    "\n"
   ]
  },
  {
   "cell_type": "code",
   "execution_count": 0,
   "metadata": {
    "colab": {
     "base_uri": "https://localhost:8080/",
     "height": 314
    },
    "colab_type": "code",
    "id": "v6jn95kzdRg2",
    "outputId": "22251219-00da-4f72-8d45-990d6d06fa9d"
   },
   "outputs": [
    {
     "data": {
      "text/html": [
       "<div>\n",
       "<style scoped>\n",
       "    .dataframe tbody tr th:only-of-type {\n",
       "        vertical-align: middle;\n",
       "    }\n",
       "\n",
       "    .dataframe tbody tr th {\n",
       "        vertical-align: top;\n",
       "    }\n",
       "\n",
       "    .dataframe thead th {\n",
       "        text-align: right;\n",
       "    }\n",
       "</style>\n",
       "<table border=\"1\" class=\"dataframe\">\n",
       "  <thead>\n",
       "    <tr style=\"text-align: right;\">\n",
       "      <th></th>\n",
       "      <th>longitude</th>\n",
       "      <th>latitude</th>\n",
       "      <th>housing_median_age</th>\n",
       "      <th>total_rooms</th>\n",
       "      <th>total_bedrooms</th>\n",
       "      <th>population</th>\n",
       "      <th>households</th>\n",
       "      <th>median_income</th>\n",
       "      <th>median_house_value</th>\n",
       "      <th>ocean_proximity</th>\n",
       "    </tr>\n",
       "  </thead>\n",
       "  <tbody>\n",
       "    <tr>\n",
       "      <th>count</th>\n",
       "      <td>20640.000000</td>\n",
       "      <td>20640.000000</td>\n",
       "      <td>20640.000000</td>\n",
       "      <td>20640.000000</td>\n",
       "      <td>20433.000000</td>\n",
       "      <td>20640.000000</td>\n",
       "      <td>20640.000000</td>\n",
       "      <td>20640.000000</td>\n",
       "      <td>20640.000000</td>\n",
       "      <td>20640.000000</td>\n",
       "    </tr>\n",
       "    <tr>\n",
       "      <th>mean</th>\n",
       "      <td>-0.107540</td>\n",
       "      <td>0.145788</td>\n",
       "      <td>-0.007069</td>\n",
       "      <td>0.012940</td>\n",
       "      <td>0.015964</td>\n",
       "      <td>0.007273</td>\n",
       "      <td>0.014889</td>\n",
       "      <td>0.023163</td>\n",
       "      <td>0.055991</td>\n",
       "      <td>0.041461</td>\n",
       "    </tr>\n",
       "    <tr>\n",
       "      <th>std</th>\n",
       "      <td>0.199555</td>\n",
       "      <td>0.226988</td>\n",
       "      <td>0.246776</td>\n",
       "      <td>0.055486</td>\n",
       "      <td>0.065392</td>\n",
       "      <td>0.031740</td>\n",
       "      <td>0.062873</td>\n",
       "      <td>0.131020</td>\n",
       "      <td>0.237928</td>\n",
       "      <td>0.355166</td>\n",
       "    </tr>\n",
       "    <tr>\n",
       "      <th>min</th>\n",
       "      <td>-0.583665</td>\n",
       "      <td>-0.182784</td>\n",
       "      <td>-0.549020</td>\n",
       "      <td>-0.054046</td>\n",
       "      <td>-0.067349</td>\n",
       "      <td>-0.032596</td>\n",
       "      <td>-0.067094</td>\n",
       "      <td>-0.209301</td>\n",
       "      <td>-0.339588</td>\n",
       "      <td>-0.250000</td>\n",
       "    </tr>\n",
       "    <tr>\n",
       "      <th>25%</th>\n",
       "      <td>-0.329681</td>\n",
       "      <td>-0.035069</td>\n",
       "      <td>-0.215686</td>\n",
       "      <td>-0.017276</td>\n",
       "      <td>-0.021570</td>\n",
       "      <td>-0.010622</td>\n",
       "      <td>-0.021214</td>\n",
       "      <td>-0.066992</td>\n",
       "      <td>-0.123917</td>\n",
       "      <td>-0.250000</td>\n",
       "    </tr>\n",
       "    <tr>\n",
       "      <th>50%</th>\n",
       "      <td>0.000000</td>\n",
       "      <td>0.000000</td>\n",
       "      <td>0.000000</td>\n",
       "      <td>0.000000</td>\n",
       "      <td>0.000000</td>\n",
       "      <td>0.000000</td>\n",
       "      <td>0.000000</td>\n",
       "      <td>0.000000</td>\n",
       "      <td>0.000000</td>\n",
       "      <td>0.000000</td>\n",
       "    </tr>\n",
       "    <tr>\n",
       "      <th>75%</th>\n",
       "      <td>0.047809</td>\n",
       "      <td>0.366631</td>\n",
       "      <td>0.156863</td>\n",
       "      <td>0.025968</td>\n",
       "      <td>0.032899</td>\n",
       "      <td>0.015667</td>\n",
       "      <td>0.032232</td>\n",
       "      <td>0.083340</td>\n",
       "      <td>0.175309</td>\n",
       "      <td>0.000000</td>\n",
       "    </tr>\n",
       "    <tr>\n",
       "      <th>max</th>\n",
       "      <td>0.416335</td>\n",
       "      <td>0.817216</td>\n",
       "      <td>0.450980</td>\n",
       "      <td>0.945954</td>\n",
       "      <td>0.932651</td>\n",
       "      <td>0.967404</td>\n",
       "      <td>0.932906</td>\n",
       "      <td>0.790699</td>\n",
       "      <td>0.660412</td>\n",
       "      <td>0.750000</td>\n",
       "    </tr>\n",
       "  </tbody>\n",
       "</table>\n",
       "</div>"
      ],
      "text/plain": [
       "          longitude      latitude  ...  median_house_value  ocean_proximity\n",
       "count  20640.000000  20640.000000  ...        20640.000000     20640.000000\n",
       "mean      -0.107540      0.145788  ...            0.055991         0.041461\n",
       "std        0.199555      0.226988  ...            0.237928         0.355166\n",
       "min       -0.583665     -0.182784  ...           -0.339588        -0.250000\n",
       "25%       -0.329681     -0.035069  ...           -0.123917        -0.250000\n",
       "50%        0.000000      0.000000  ...            0.000000         0.000000\n",
       "75%        0.047809      0.366631  ...            0.175309         0.000000\n",
       "max        0.416335      0.817216  ...            0.660412         0.750000\n",
       "\n",
       "[8 rows x 10 columns]"
      ]
     },
     "execution_count": 8,
     "metadata": {
      "tags": []
     },
     "output_type": "execute_result"
    }
   ],
   "source": [
    "housing.describe()"
   ]
  }
 ],
 "metadata": {
  "colab": {
   "collapsed_sections": [
    "nkA57iw0p2Yx",
    "i3La0B_Ip2Zw"
   ],
   "name": "TP1.ipynb",
   "provenance": []
  },
  "kernelspec": {
   "display_name": "Python 3",
   "language": "python",
   "name": "python3"
  },
  "language_info": {
   "codemirror_mode": {
    "name": "ipython",
    "version": 3
   },
   "file_extension": ".py",
   "mimetype": "text/x-python",
   "name": "python",
   "nbconvert_exporter": "python",
   "pygments_lexer": "ipython3",
   "version": "3.7.3"
  }
 },
 "nbformat": 4,
 "nbformat_minor": 1
}
