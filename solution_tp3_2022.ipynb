{
  "nbformat": 4,
  "nbformat_minor": 0,
  "metadata": {
    "colab": {
      "name": "solution_tp3_2022.ipynb",
      "provenance": [],
      "collapsed_sections": [],
      "authorship_tag": "ABX9TyNl1Gs3SNTR3R1X1G4WwAb+",
      "include_colab_link": true
    },
    "kernelspec": {
      "name": "python3",
      "display_name": "Python 3"
    },
    "language_info": {
      "name": "python"
    }
  },
  "cells": [
    {
      "cell_type": "markdown",
      "metadata": {
        "id": "view-in-github",
        "colab_type": "text"
      },
      "source": [
        "<a href=\"https://colab.research.google.com/github/securitylab-repository/TPS-IA/blob/master/solution_tp3_2022.ipynb\" target=\"_parent\"><img src=\"https://colab.research.google.com/assets/colab-badge.svg\" alt=\"Open In Colab\"/></a>"
      ]
    },
    {
      "cell_type": "markdown",
      "source": [
        "# Charger le dataset"
      ],
      "metadata": {
        "id": "ArvtEqZDeiMi"
      }
    },
    {
      "cell_type": "code",
      "execution_count": 55,
      "metadata": {
        "id": "0RQ3-TdndMfu"
      },
      "outputs": [],
      "source": [
        "import pandas as pd\n",
        "import numpy as np\n",
        "from IPython.display import display\n",
        "\n",
        "dataset = pd.read_csv('https://github.com/securitylab-repository/TPS-IA/raw/master/payment_fraud.csv',delimiter=',')"
      ]
    },
    {
      "cell_type": "code",
      "source": [
        "dataset.head()"
      ],
      "metadata": {
        "colab": {
          "base_uri": "https://localhost:8080/",
          "height": 206
        },
        "id": "tsCG-cgmQqPu",
        "outputId": "5ec1dd96-3e24-4bb7-eda8-d7a09e12307d"
      },
      "execution_count": 116,
      "outputs": [
        {
          "output_type": "execute_result",
          "data": {
            "text/plain": [
              "   accountAgeDays  numItems  localTime paymentMethod  paymentMethodAgeDays  \\\n",
              "0              29         1   4.745402        paypal             28.204861   \n",
              "1             725         1   4.742303   storecredit              0.000000   \n",
              "2             845         1   4.921318    creditcard              0.000000   \n",
              "3             503         1   4.886641    creditcard              0.000000   \n",
              "4            2000         1   5.040929    creditcard              0.000000   \n",
              "\n",
              "   label income_cat  \n",
              "0      0          5  \n",
              "1      0          5  \n",
              "2      0          6  \n",
              "3      0          6  \n",
              "4      0          6  "
            ],
            "text/html": [
              "\n",
              "  <div id=\"df-5d01d024-9ed0-43f5-83dc-9b6665aca15c\">\n",
              "    <div class=\"colab-df-container\">\n",
              "      <div>\n",
              "<style scoped>\n",
              "    .dataframe tbody tr th:only-of-type {\n",
              "        vertical-align: middle;\n",
              "    }\n",
              "\n",
              "    .dataframe tbody tr th {\n",
              "        vertical-align: top;\n",
              "    }\n",
              "\n",
              "    .dataframe thead th {\n",
              "        text-align: right;\n",
              "    }\n",
              "</style>\n",
              "<table border=\"1\" class=\"dataframe\">\n",
              "  <thead>\n",
              "    <tr style=\"text-align: right;\">\n",
              "      <th></th>\n",
              "      <th>accountAgeDays</th>\n",
              "      <th>numItems</th>\n",
              "      <th>localTime</th>\n",
              "      <th>paymentMethod</th>\n",
              "      <th>paymentMethodAgeDays</th>\n",
              "      <th>label</th>\n",
              "      <th>income_cat</th>\n",
              "    </tr>\n",
              "  </thead>\n",
              "  <tbody>\n",
              "    <tr>\n",
              "      <th>0</th>\n",
              "      <td>29</td>\n",
              "      <td>1</td>\n",
              "      <td>4.745402</td>\n",
              "      <td>paypal</td>\n",
              "      <td>28.204861</td>\n",
              "      <td>0</td>\n",
              "      <td>5</td>\n",
              "    </tr>\n",
              "    <tr>\n",
              "      <th>1</th>\n",
              "      <td>725</td>\n",
              "      <td>1</td>\n",
              "      <td>4.742303</td>\n",
              "      <td>storecredit</td>\n",
              "      <td>0.000000</td>\n",
              "      <td>0</td>\n",
              "      <td>5</td>\n",
              "    </tr>\n",
              "    <tr>\n",
              "      <th>2</th>\n",
              "      <td>845</td>\n",
              "      <td>1</td>\n",
              "      <td>4.921318</td>\n",
              "      <td>creditcard</td>\n",
              "      <td>0.000000</td>\n",
              "      <td>0</td>\n",
              "      <td>6</td>\n",
              "    </tr>\n",
              "    <tr>\n",
              "      <th>3</th>\n",
              "      <td>503</td>\n",
              "      <td>1</td>\n",
              "      <td>4.886641</td>\n",
              "      <td>creditcard</td>\n",
              "      <td>0.000000</td>\n",
              "      <td>0</td>\n",
              "      <td>6</td>\n",
              "    </tr>\n",
              "    <tr>\n",
              "      <th>4</th>\n",
              "      <td>2000</td>\n",
              "      <td>1</td>\n",
              "      <td>5.040929</td>\n",
              "      <td>creditcard</td>\n",
              "      <td>0.000000</td>\n",
              "      <td>0</td>\n",
              "      <td>6</td>\n",
              "    </tr>\n",
              "  </tbody>\n",
              "</table>\n",
              "</div>\n",
              "      <button class=\"colab-df-convert\" onclick=\"convertToInteractive('df-5d01d024-9ed0-43f5-83dc-9b6665aca15c')\"\n",
              "              title=\"Convert this dataframe to an interactive table.\"\n",
              "              style=\"display:none;\">\n",
              "        \n",
              "  <svg xmlns=\"http://www.w3.org/2000/svg\" height=\"24px\"viewBox=\"0 0 24 24\"\n",
              "       width=\"24px\">\n",
              "    <path d=\"M0 0h24v24H0V0z\" fill=\"none\"/>\n",
              "    <path d=\"M18.56 5.44l.94 2.06.94-2.06 2.06-.94-2.06-.94-.94-2.06-.94 2.06-2.06.94zm-11 1L8.5 8.5l.94-2.06 2.06-.94-2.06-.94L8.5 2.5l-.94 2.06-2.06.94zm10 10l.94 2.06.94-2.06 2.06-.94-2.06-.94-.94-2.06-.94 2.06-2.06.94z\"/><path d=\"M17.41 7.96l-1.37-1.37c-.4-.4-.92-.59-1.43-.59-.52 0-1.04.2-1.43.59L10.3 9.45l-7.72 7.72c-.78.78-.78 2.05 0 2.83L4 21.41c.39.39.9.59 1.41.59.51 0 1.02-.2 1.41-.59l7.78-7.78 2.81-2.81c.8-.78.8-2.07 0-2.86zM5.41 20L4 18.59l7.72-7.72 1.47 1.35L5.41 20z\"/>\n",
              "  </svg>\n",
              "      </button>\n",
              "      \n",
              "  <style>\n",
              "    .colab-df-container {\n",
              "      display:flex;\n",
              "      flex-wrap:wrap;\n",
              "      gap: 12px;\n",
              "    }\n",
              "\n",
              "    .colab-df-convert {\n",
              "      background-color: #E8F0FE;\n",
              "      border: none;\n",
              "      border-radius: 50%;\n",
              "      cursor: pointer;\n",
              "      display: none;\n",
              "      fill: #1967D2;\n",
              "      height: 32px;\n",
              "      padding: 0 0 0 0;\n",
              "      width: 32px;\n",
              "    }\n",
              "\n",
              "    .colab-df-convert:hover {\n",
              "      background-color: #E2EBFA;\n",
              "      box-shadow: 0px 1px 2px rgba(60, 64, 67, 0.3), 0px 1px 3px 1px rgba(60, 64, 67, 0.15);\n",
              "      fill: #174EA6;\n",
              "    }\n",
              "\n",
              "    [theme=dark] .colab-df-convert {\n",
              "      background-color: #3B4455;\n",
              "      fill: #D2E3FC;\n",
              "    }\n",
              "\n",
              "    [theme=dark] .colab-df-convert:hover {\n",
              "      background-color: #434B5C;\n",
              "      box-shadow: 0px 1px 3px 1px rgba(0, 0, 0, 0.15);\n",
              "      filter: drop-shadow(0px 1px 2px rgba(0, 0, 0, 0.3));\n",
              "      fill: #FFFFFF;\n",
              "    }\n",
              "  </style>\n",
              "\n",
              "      <script>\n",
              "        const buttonEl =\n",
              "          document.querySelector('#df-5d01d024-9ed0-43f5-83dc-9b6665aca15c button.colab-df-convert');\n",
              "        buttonEl.style.display =\n",
              "          google.colab.kernel.accessAllowed ? 'block' : 'none';\n",
              "\n",
              "        async function convertToInteractive(key) {\n",
              "          const element = document.querySelector('#df-5d01d024-9ed0-43f5-83dc-9b6665aca15c');\n",
              "          const dataTable =\n",
              "            await google.colab.kernel.invokeFunction('convertToInteractive',\n",
              "                                                     [key], {});\n",
              "          if (!dataTable) return;\n",
              "\n",
              "          const docLinkHtml = 'Like what you see? Visit the ' +\n",
              "            '<a target=\"_blank\" href=https://colab.research.google.com/notebooks/data_table.ipynb>data table notebook</a>'\n",
              "            + ' to learn more about interactive tables.';\n",
              "          element.innerHTML = '';\n",
              "          dataTable['output_type'] = 'display_data';\n",
              "          await google.colab.output.renderOutput(dataTable, element);\n",
              "          const docLink = document.createElement('div');\n",
              "          docLink.innerHTML = docLinkHtml;\n",
              "          element.appendChild(docLink);\n",
              "        }\n",
              "      </script>\n",
              "    </div>\n",
              "  </div>\n",
              "  "
            ]
          },
          "metadata": {},
          "execution_count": 116
        }
      ]
    },
    {
      "cell_type": "markdown",
      "source": [
        "# Créer l'ensemble d'entrainement et de test"
      ],
      "metadata": {
        "id": "NO27qqxUepA5"
      }
    },
    {
      "cell_type": "code",
      "source": [
        "#%matplotlib inline   # Seulement dans Jupyter notebook\n",
        "import matplotlib.pyplot as plt\n",
        "dataset.hist(bins=50, figsize=(20,15))\n",
        "plt.show()"
      ],
      "metadata": {
        "colab": {
          "base_uri": "https://localhost:8080/",
          "height": 879
        },
        "id": "Cw7NzDmthBys",
        "outputId": "6ca49fe9-fe70-4a55-a944-2847c046e959"
      },
      "execution_count": 115,
      "outputs": [
        {
          "output_type": "display_data",
          "data": {
            "text/plain": [
              "<Figure size 1440x1080 with 6 Axes>"
            ],
            "image/png": "[encoded data removed]"
          },
          "metadata": {
            "needs_background": "light"
          }
        }
      ]
    },
    {
      "cell_type": "code",
      "source": [
        "from sklearn.model_selection import train_test_split\n",
        "train_set, test_set = train_test_split(dataset, test_size=0.2, random_state=42)"
      ],
      "metadata": {
        "id": "-v13JsRuf-po"
      },
      "execution_count": 58,
      "outputs": []
    },
    {
      "cell_type": "code",
      "source": [
        "dataset[\"income_cat\"] = pd.cut(dataset[\"localTime\"],\n",
        "                               bins=[0., 3, 3.5, 4, 4.6,4.8, np.inf],\n",
        "                               labels=[1, 2, 3, 4, 5, 6])\n",
        "dataset[\"income_cat\"].hist()"
      ],
      "metadata": {
        "id": "-PdtSsKsQ_wj"
      },
      "execution_count": null,
      "outputs": []
    },
    {
      "cell_type": "code",
      "source": [
        "\n",
        "dataset[\"income_cat\"] = pd.cut(dataset[\"accountAgeDays\"],\n",
        "                               bins=[0., 20, 250, 1900, np.inf],\n",
        "                               labels=[1, 2, 3, 4])\n",
        "dataset[\"income_cat\"].hist()"
      ],
      "metadata": {
        "colab": {
          "base_uri": "https://localhost:8080/",
          "height": 283
        },
        "id": "owuxuLyThWpx",
        "outputId": "731af76f-ef5e-421b-ae0b-81a756b4ea35"
      },
      "execution_count": 119,
      "outputs": [
        {
          "output_type": "execute_result",
          "data": {
            "text/plain": [
              "<matplotlib.axes._subplots.AxesSubplot at 0x7f9c8f921ed0>"
            ]
          },
          "metadata": {},
          "execution_count": 119
        },
        {
          "output_type": "display_data",
          "data": {
            "text/plain": [
              "<Figure size 432x288 with 1 Axes>"
            ],
            "image/png": "[encoded data removed]"
          },
          "metadata": {
            "needs_background": "light"
          }
        }
      ]
    },
    {
      "cell_type": "code",
      "source": [
        "from sklearn.model_selection import StratifiedShuffleSplit\n",
        "split = StratifiedShuffleSplit(n_splits=1, test_size=0.2, random_state=42)\n",
        "for train_index, test_index in split.split(dataset, dataset[\"income_cat\"]):\n",
        "    strat_train_set = dataset.loc[train_index]\n",
        "    strat_test_set = dataset.loc[test_index]\n",
        "\n",
        "strat_test_set[\"income_cat\"].value_counts() / len(strat_test_set)"
      ],
      "metadata": {
        "colab": {
          "base_uri": "https://localhost:8080/"
        },
        "id": "lt2HOoygha1I",
        "outputId": "72a06a0b-ac90-45fa-80ee-ace841c98edc"
      },
      "execution_count": 145,
      "outputs": [
        {
          "output_type": "execute_result",
          "data": {
            "text/plain": [
              "3    0.361887\n",
              "2    0.254175\n",
              "4    0.234289\n",
              "1    0.149649\n",
              "Name: income_cat, dtype: float64"
            ]
          },
          "metadata": {},
          "execution_count": 145
        }
      ]
    },
    {
      "cell_type": "code",
      "source": [
        "for set_ in (strat_train_set, strat_test_set): \n",
        "  set_.drop(\"income_cat\", axis=1, inplace=True)\n",
        "\n"
      ],
      "metadata": {
        "id": "8TR-xwk8heTh"
      },
      "execution_count": 146,
      "outputs": []
    },
    {
      "cell_type": "markdown",
      "source": [
        "# Extraction des labels"
      ],
      "metadata": {
        "id": "0ziaGv3rjLX3"
      }
    },
    {
      "cell_type": "code",
      "source": [
        "train_set = strat_train_set.drop(\"label\", axis=1)\n",
        "test_set = strat_test_set.drop(\"label\", axis=1)\n",
        "train_labels =  strat_train_set[\"label\"].copy()\n",
        "test_labels =  strat_test_set[\"label\"].copy()\n"
      ],
      "metadata": {
        "id": "-ZFvLDlujOYS"
      },
      "execution_count": 147,
      "outputs": []
    },
    {
      "cell_type": "markdown",
      "source": [
        "# Traitement du dataset d'entrainement et de test"
      ],
      "metadata": {
        "id": "P8cW5GBbpgUH"
      }
    },
    {
      "cell_type": "code",
      "source": [
        "from sklearn.base import BaseEstimator, TransformerMixin\n",
        "\n",
        "\n",
        "class CombinedAttributesAdder(BaseEstimator, TransformerMixin):\n",
        "    def __init__(self): # no *args or **kargs\n",
        "        return\n",
        "    def fit(self, X, y=None):\n",
        "        return self  # nothing else to do\n",
        "    def transform(self, X):\n",
        "      \n",
        "      return X\n"
      ],
      "metadata": {
        "id": "QzulTm8hq3Nc"
      },
      "execution_count": 148,
      "outputs": []
    },
    {
      "cell_type": "code",
      "source": [
        "from sklearn.pipeline import Pipeline\n",
        "from sklearn.preprocessing import StandardScaler\n",
        "from sklearn.impute import SimpleImputer\n",
        "\n",
        "num_pipeline = Pipeline([\n",
        "        ('imputer', SimpleImputer(strategy=\"median\")),\n",
        "      #  ('attribs_adder', CombinedAttributesAdder()),\n",
        "        ('std_scaler', StandardScaler()),\n",
        "    ])\n",
        "\n",
        "train_set_num = train_set.drop(\"paymentMethod\", axis=1)\n",
        "train_set_num_tr = num_pipeline.fit_transform(train_set_num)\n",
        "\n",
        "print(train_set_num_tr)"
      ],
      "metadata": {
        "colab": {
          "base_uri": "https://localhost:8080/"
        },
        "id": "GVNL4sB5m_Ej",
        "outputId": "d51f3a9f-e18d-4184-c9b5-1ec06a5aad72"
      },
      "execution_count": 149,
      "outputs": [
        {
          "output_type": "stream",
          "name": "stdout",
          "text": [
            "[[ 1.41980075 -0.15289597  0.44520813 -0.43282774]\n",
            " [-1.04785306 -0.15289597  0.44520813 -0.43282774]\n",
            " [-1.00809228  1.67254694 -0.57295891 -0.43282774]\n",
            " ...\n",
            " [ 1.41980075 -0.15289597  0.69308124  0.35699173]\n",
            " [ 1.41980075 -0.15289597  0.44528769 -0.43282774]\n",
            " [-0.82668369 -0.15289597  0.33088511  0.24859103]]\n"
          ]
        }
      ]
    },
    {
      "cell_type": "code",
      "source": [
        "categorical_features = train_set.select_dtypes(['object', 'bool', 'category']).columns\n",
        "print(categorical_features )\n",
        "categorical_transformer = Pipeline(steps=[\n",
        "    ('imputer', SimpleImputer(strategy='constant', fill_value='missing')),\n",
        "    ('onehot', OneHotEncoder(handle_unknown='ignore'))])\n"
      ],
      "metadata": {
        "colab": {
          "base_uri": "https://localhost:8080/"
        },
        "id": "0gS1DVKOIF_f",
        "outputId": "9ae0ae01-306d-4912-8c6d-bbe65a6be032"
      },
      "execution_count": 150,
      "outputs": [
        {
          "output_type": "stream",
          "name": "stdout",
          "text": [
            "Index(['paymentMethod'], dtype='object')\n"
          ]
        }
      ]
    },
    {
      "cell_type": "code",
      "source": [
        "numeric_features = train_set.select_dtypes(np.number).columns\n",
        "print(numeric_features)"
      ],
      "metadata": {
        "colab": {
          "base_uri": "https://localhost:8080/"
        },
        "id": "86nFOulqIlpL",
        "outputId": "2289b663-3bee-4c54-83d1-998d2969082b"
      },
      "execution_count": 151,
      "outputs": [
        {
          "output_type": "stream",
          "name": "stdout",
          "text": [
            "Index(['accountAgeDays', 'numItems', 'localTime', 'paymentMethodAgeDays'], dtype='object')\n"
          ]
        }
      ]
    },
    {
      "cell_type": "code",
      "source": [
        "# Construct ColumnTransformer object\n",
        "full_pipeline = ColumnTransformer(\n",
        "    transformers=[\n",
        "        ('num', num_pipeline, numeric_features),\n",
        "        ('cat', categorical_transformer, categorical_features)\n",
        "    ],\n",
        "    remainder='drop',\n",
        "    verbose=True)"
      ],
      "metadata": {
        "id": "TnUZNJ6aIbJP"
      },
      "execution_count": 152,
      "outputs": []
    },
    {
      "cell_type": "code",
      "source": [
        "train_set_prepared = full_pipeline.fit_transform(train_set)\n",
        "enc_cat_features = full_pipeline.named_transformers_['cat']['onehot'].get_feature_names()\n",
        "feature_names = np.concatenate([numeric_features, enc_cat_features])\n",
        "feature_names\n"
      ],
      "metadata": {
        "colab": {
          "base_uri": "https://localhost:8080/"
        },
        "id": "0ZCU8QwQJIFl",
        "outputId": "e75cceb9-c07d-456e-91e3-041b0633aa00"
      },
      "execution_count": 153,
      "outputs": [
        {
          "output_type": "stream",
          "name": "stdout",
          "text": [
            "[ColumnTransformer] ........... (1 of 2) Processing num, total=   0.0s\n",
            "[ColumnTransformer] ........... (2 of 2) Processing cat, total=   0.0s\n"
          ]
        },
        {
          "output_type": "stream",
          "name": "stderr",
          "text": [
            "/usr/local/lib/python3.7/dist-packages/sklearn/utils/deprecation.py:87: FutureWarning: Function get_feature_names is deprecated; get_feature_names is deprecated in 1.0 and will be removed in 1.2. Please use get_feature_names_out instead.\n",
            "  warnings.warn(msg, category=FutureWarning)\n"
          ]
        },
        {
          "output_type": "execute_result",
          "data": {
            "text/plain": [
              "array(['accountAgeDays', 'numItems', 'localTime', 'paymentMethodAgeDays',\n",
              "       'x0_creditcard', 'x0_paypal', 'x0_storecredit'], dtype=object)"
            ]
          },
          "metadata": {},
          "execution_count": 153
        }
      ]
    },
    {
      "cell_type": "code",
      "metadata": {
        "id": "KIoAh8a9Xvgb"
      },
      "source": [
        "#from sklearn.compose import ColumnTransformer\n",
        "#from sklearn.preprocessing import OneHotEncoder\n",
        "#num_attribs = list(train_set_num)\n",
        "#print(\"Attributs numériques {} : \".format(num_attribs))\n",
        "#cat_attribs = [\"paymentMethod\"]\n",
        "\n",
        "#full_pipeline = ColumnTransformer([\n",
        "#        (\"num\", num_pipeline, num_attribs),\n",
        "#        (\"cat\", OneHotEncoder(), cat_attribs),\n",
        " #   ])\n",
        "\n",
        "#train_set_prepared = full_pipeline.fit_transform(train_set)\n",
        "\n",
        "\n",
        "#print(train_set_prepared)"
      ],
      "execution_count": 154,
      "outputs": []
    },
    {
      "cell_type": "code",
      "source": [
        "# prepare test set\n",
        "test_set_prepared = full_pipeline.fit_transform(test_set)"
      ],
      "metadata": {
        "colab": {
          "base_uri": "https://localhost:8080/"
        },
        "id": "nnhzcQb4uDeh",
        "outputId": "57ee19f2-6204-4c7f-de6f-8991f0653a80"
      },
      "execution_count": 155,
      "outputs": [
        {
          "output_type": "stream",
          "name": "stdout",
          "text": [
            "[ColumnTransformer] ........... (1 of 2) Processing num, total=   0.0s\n",
            "[ColumnTransformer] ........... (2 of 2) Processing cat, total=   0.0s\n"
          ]
        }
      ]
    },
    {
      "cell_type": "markdown",
      "source": [
        "# Entrainement Logistic Regression"
      ],
      "metadata": {
        "id": "Ny6GjYD-scnu"
      }
    },
    {
      "cell_type": "code",
      "source": [
        "from sklearn.linear_model import SGDClassifier\n",
        "lr = SGDClassifier(loss=\"log\", penalty=\"none\")\n",
        "lr.fit(train_set_prepared, train_labels)"
      ],
      "metadata": {
        "colab": {
          "base_uri": "https://localhost:8080/"
        },
        "id": "VphD-700shXn",
        "outputId": "40f2e870-1ae1-47b6-a2bc-1ac67334ba2b"
      },
      "execution_count": 156,
      "outputs": [
        {
          "output_type": "execute_result",
          "data": {
            "text/plain": [
              "SGDClassifier(loss='log', penalty='none')"
            ]
          },
          "metadata": {},
          "execution_count": 156
        }
      ]
    },
    {
      "cell_type": "code",
      "source": [
        "from sklearn.metrics import mean_squared_error\n",
        "train_predictions = lr.predict(train_set_prepared)\n",
        "lin_mse = mean_squared_error(train_labels, train_predictions)\n",
        "lin_rmse = np.sqrt(lin_mse)\n",
        "lin_rmse"
      ],
      "metadata": {
        "colab": {
          "base_uri": "https://localhost:8080/"
        },
        "id": "00cgQ9Mms-xg",
        "outputId": "dec9169d-b291-4a50-850a-ca741e84b109"
      },
      "execution_count": 157,
      "outputs": [
        {
          "output_type": "execute_result",
          "data": {
            "text/plain": [
              "0.11761049466297625"
            ]
          },
          "metadata": {},
          "execution_count": 157
        }
      ]
    },
    {
      "cell_type": "markdown",
      "source": [
        "# Test Logistic Regression"
      ],
      "metadata": {
        "id": "7icYGp9otrZe"
      }
    },
    {
      "cell_type": "code",
      "source": [
        "# Calcul des erreurs de prédiction\n",
        "# Validation\n",
        "final_predictions = lr.predict(test_set_prepared)\n",
        "final_mse = mean_squared_error(test_labels, final_predictions)\n",
        "final_rmse = np.sqrt(final_mse)   \n",
        "print(final_rmse)"
      ],
      "metadata": {
        "colab": {
          "base_uri": "https://localhost:8080/"
        },
        "id": "x9jWrl8zt7Iw",
        "outputId": "72d3cf16-66c7-42d2-db60-e2cf8e74b792"
      },
      "execution_count": 158,
      "outputs": [
        {
          "output_type": "stream",
          "name": "stdout",
          "text": [
            "0.1272346462029558\n"
          ]
        }
      ]
    },
    {
      "cell_type": "markdown",
      "source": [
        "# Entrainement Knn"
      ],
      "metadata": {
        "id": "Ag8DXDl_viPX"
      }
    },
    {
      "cell_type": "code",
      "source": [
        "from sklearn.neighbors import KNeighborsClassifier\n",
        "# Create KNN classifier\n",
        "k = 3\n",
        "knn = KNeighborsClassifier(n_neighbors = k)\n",
        "# Fit the classifier to the data\n",
        "knn.fit(train_set_prepared,train_labels)"
      ],
      "metadata": {
        "colab": {
          "base_uri": "https://localhost:8080/"
        },
        "id": "Mr7qNx93vqAE",
        "outputId": "d7f1b6cf-a0ce-4ee0-eec5-0e959c001640"
      },
      "execution_count": 159,
      "outputs": [
        {
          "output_type": "execute_result",
          "data": {
            "text/plain": [
              "KNeighborsClassifier(n_neighbors=3)"
            ]
          },
          "metadata": {},
          "execution_count": 159
        }
      ]
    },
    {
      "cell_type": "code",
      "source": [
        "from sklearn.metrics import mean_squared_error\n",
        "train_predictions = knn.predict(train_set_prepared)\n",
        "lin_mse = mean_squared_error(train_labels, train_predictions)\n",
        "lin_rmse = np.sqrt(lin_mse)\n",
        "lin_rmse"
      ],
      "metadata": {
        "colab": {
          "base_uri": "https://localhost:8080/"
        },
        "id": "2e96CGmMwyhB",
        "outputId": "2f2e4496-ad16-411f-c471-de7177a4c4c1"
      },
      "execution_count": 160,
      "outputs": [
        {
          "output_type": "execute_result",
          "data": {
            "text/plain": [
              "0.043729734142099526"
            ]
          },
          "metadata": {},
          "execution_count": 160
        }
      ]
    },
    {
      "cell_type": "markdown",
      "source": [
        "# Test Knn"
      ],
      "metadata": {
        "id": "P1uCNGeKxRNq"
      }
    },
    {
      "cell_type": "code",
      "source": [
        "# Calcul des erreurs de prédiction\n",
        "# Validation\n",
        "final_predictions = knn.predict(test_set_prepared)\n",
        "final_mse = mean_squared_error(test_labels, final_predictions)\n",
        "final_rmse = np.sqrt(final_mse)   \n",
        "print(final_rmse)"
      ],
      "metadata": {
        "colab": {
          "base_uri": "https://localhost:8080/"
        },
        "id": "_2NBqDsexXfb",
        "outputId": "77e4f5e0-ee05-4125-e887-d96c087c0c04"
      },
      "execution_count": 161,
      "outputs": [
        {
          "output_type": "stream",
          "name": "stdout",
          "text": [
            "0.13406428069233273\n"
          ]
        }
      ]
    },
    {
      "cell_type": "markdown",
      "source": [
        "## Fix velue of hyper-parameter K"
      ],
      "metadata": {
        "id": "tu93ZeZo4_5_"
      }
    },
    {
      "cell_type": "code",
      "source": [
        "from sklearn.model_selection import GridSearchCV\n",
        "\n",
        "knn = KNeighborsClassifier()\n",
        "\n",
        "k_range = list(range(1, 31))\n",
        "param_grid = dict(n_neighbors=k_range)\n",
        "  \n",
        "# defining parameter range\n",
        "grid = GridSearchCV(knn, param_grid, cv=5, scoring='accuracy', return_train_score=False,verbose=1)\n",
        "#grid_search = GridSearchCV(knn, param_grid, cv=5,\n",
        "#                           scoring='neg_mean_squared_error',\n",
        "#                          return_train_score=True)\n",
        "  \n",
        "# fitting the model for grid search\n",
        "grid_search=grid.fit(train_set_prepared, train_labels)"
      ],
      "metadata": {
        "colab": {
          "base_uri": "https://localhost:8080/"
        },
        "id": "Jvsvtx9q51Xj",
        "outputId": "3eee92da-57d6-415a-bb1d-3e3325d7ec89"
      },
      "execution_count": 138,
      "outputs": [
        {
          "output_type": "stream",
          "name": "stdout",
          "text": [
            "Fitting 5 folds for each of 30 candidates, totalling 150 fits\n"
          ]
        }
      ]
    },
    {
      "cell_type": "code",
      "source": [
        "print(grid_search.best_params_)"
      ],
      "metadata": {
        "colab": {
          "base_uri": "https://localhost:8080/"
        },
        "id": "MYT4ibTR6sj1",
        "outputId": "3bd3301f-3db8-474e-9058-36330bd107e7"
      },
      "execution_count": 139,
      "outputs": [
        {
          "output_type": "stream",
          "name": "stdout",
          "text": [
            "{'n_neighbors': 2}\n"
          ]
        }
      ]
    },
    {
      "cell_type": "code",
      "source": [
        "accuracy = grid_search.best_score_ *100\n",
        "print(\"Accuracy for our training dataset with tuning is : {:.2f}%\".format(accuracy) )"
      ],
      "metadata": {
        "colab": {
          "base_uri": "https://localhost:8080/"
        },
        "id": "cBNzm2wO7KEU",
        "outputId": "0a7bfdde-8c84-4bd5-e5a1-e00e77c9b112"
      },
      "execution_count": 140,
      "outputs": [
        {
          "output_type": "stream",
          "name": "stdout",
          "text": [
            "Accuracy for our training dataset with tuning is : 99.68%\n"
          ]
        }
      ]
    },
    {
      "cell_type": "markdown",
      "source": [
        "# Choix d'un algorithme de machine learning - Cross Validation"
      ],
      "metadata": {
        "id": "73_22Xaa_1__"
      }
    },
    {
      "cell_type": "code",
      "source": [
        "def display_scores(scores):\n",
        "  print(\"Scores:\", scores)\n",
        "  print(\"Mean:\", scores.mean())\n",
        "  print(\"Standard deviation:\", scores.std())"
      ],
      "metadata": {
        "id": "sNR2pIgIAZHO"
      },
      "execution_count": 141,
      "outputs": []
    },
    {
      "cell_type": "code",
      "source": [
        "from sklearn.model_selection import cross_val_score\n",
        "scores = cross_val_score(knn, train_set_prepared, train_labels, scoring=\"neg_mean_squared_error\", cv=10)\n",
        "knn_rmse_scores = np.sqrt(-scores)\n",
        "\n",
        "display_scores(knn_rmse_scores)"
      ],
      "metadata": {
        "colab": {
          "base_uri": "https://localhost:8080/"
        },
        "id": "FfqRaYBX_0_a",
        "outputId": "26a40521-2a14-443f-96e5-10bbdc6fc1c1"
      },
      "execution_count": 142,
      "outputs": [
        {
          "output_type": "stream",
          "name": "stdout",
          "text": [
            "Scores: [0.06183924 0.05920657 0.07140581 0.06183924 0.06913837 0.07360342\n",
            " 0.0618491  0.06437458 0.059216   0.07141719]\n",
            "Mean: 0.0653889513440544\n",
            "Standard deviation: 0.0051881150912173315\n"
          ]
        }
      ]
    },
    {
      "cell_type": "code",
      "source": [
        "from sklearn.model_selection import cross_val_score\n",
        "scores = cross_val_score(lr, train_set_prepared, train_labels, scoring=\"neg_mean_squared_error\", cv=10)\n",
        "lr_rmse_scores = np.sqrt(-scores)\n",
        "\n",
        "display_scores(lr_rmse_scores)"
      ],
      "metadata": {
        "colab": {
          "base_uri": "https://localhost:8080/"
        },
        "id": "iT6mrKfjsRYP",
        "outputId": "a69bdf92-32d9-4101-cd06-b2ce04645c75"
      },
      "execution_count": 143,
      "outputs": [
        {
          "output_type": "stream",
          "name": "stdout",
          "text": [
            "Scores: [0.12496016 0.11841313 0.11705979 0.11841313 0.11975118 0.11705979\n",
            " 0.12240289 0.11707845 0.11432328 0.118432  ]\n",
            "Mean: 0.11878938119157119\n",
            "Standard deviation: 0.0028518088282972697\n"
          ]
        }
      ]
    },
    {
      "cell_type": "markdown",
      "source": [
        "# Sélection des meilleurs features"
      ],
      "metadata": {
        "id": "KniruP7z8zFp"
      }
    },
    {
      "cell_type": "code",
      "source": [
        "from sklearn.model_selection import GridSearchCV\n",
        "from sklearn.ensemble import RandomForestRegressor\n",
        "\n",
        "rf = RandomForestRegressor(n_estimators=100)\n",
        "rf.fit(train_set_prepared, train_labels)\n",
        "rf.feature_importances_\n",
        "plt.barh(feature_names, rf.feature_importances_)"
      ],
      "metadata": {
        "colab": {
          "base_uri": "https://localhost:8080/",
          "height": 283
        },
        "id": "6hRmmKwJ2toh",
        "outputId": "0597faa7-c706-4ea9-cc1c-d742558f05f2"
      },
      "execution_count": 144,
      "outputs": [
        {
          "output_type": "execute_result",
          "data": {
            "text/plain": [
              "<BarContainer object of 7 artists>"
            ]
          },
          "metadata": {},
          "execution_count": 144
        },
        {
          "output_type": "display_data",
          "data": {
            "text/plain": [
              "<Figure size 432x288 with 1 Axes>"
            ],
            "image/png": "[encoded data removed]"
          },
          "metadata": {
            "needs_background": "light"
          }
        }
      ]
    }
  ]
}